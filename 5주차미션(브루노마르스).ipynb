{
  "cells": [
    {
      "cell_type": "markdown",
      "metadata": {
        "id": "view-in-github",
        "colab_type": "text"
      },
      "source": [
        "<a href=\"https://colab.research.google.com/github/brunomarschuck/2022PythonChick/blob/main/5%EC%A3%BC%EC%B0%A8%EB%AF%B8%EC%85%98(%EB%B8%8C%EB%A3%A8%EB%85%B8%EB%A7%88%EB%A5%B4%EC%8A%A4).ipynb\" target=\"_parent\"><img src=\"https://colab.research.google.com/assets/colab-badge.svg\" alt=\"Open In Colab\"/></a>"
      ]
    },
    {
      "cell_type": "markdown",
      "metadata": {
        "id": "WlKffNOPRBHB"
      },
      "source": [
        "#**모둠 및 팀 자동 구성 프로그램**\n",
        "\n"
      ]
    },
    {
      "cell_type": "markdown",
      "source": [
        "# *1. 데이터 준비(깃허브)*\n",
        "예시 데이터입니다. 본인 데이터를 쓰시면 더 좋습니다."
      ],
      "metadata": {
        "id": "i5wwpls79akF"
      }
    },
    {
      "cell_type": "code",
      "source": [
        "!git clone https://github.com/brunomarschuck/2022dataset.git"
      ],
      "metadata": {
        "colab": {
          "base_uri": "https://localhost:8080/"
        },
        "id": "IyLiBEyJ-tei",
        "outputId": "e753dfd0-fe72-4a36-e5eb-d6538ee979f7"
      },
      "execution_count": null,
      "outputs": [
        {
          "output_type": "stream",
          "name": "stdout",
          "text": [
            "Cloning into '2022dataset'...\n",
            "remote: Enumerating objects: 19, done.\u001b[K\n",
            "remote: Counting objects: 100% (19/19), done.\u001b[K\n",
            "remote: Compressing objects: 100% (19/19), done.\u001b[K\n",
            "remote: Total 19 (delta 3), reused 0 (delta 0), pack-reused 0\u001b[K\n",
            "Unpacking objects: 100% (19/19), done.\n"
          ]
        }
      ]
    },
    {
      "cell_type": "code",
      "source": [
        "ls"
      ],
      "metadata": {
        "colab": {
          "base_uri": "https://localhost:8080/"
        },
        "id": "EYjVT5Qs-uoT",
        "outputId": "f1528cab-a2b0-4d0b-fe6b-fc08a3b2d7f1"
      },
      "execution_count": null,
      "outputs": [
        {
          "output_type": "stream",
          "name": "stdout",
          "text": [
            "\u001b[0m\u001b[01;34m2022dataset\u001b[0m/  \u001b[01;34msample_data\u001b[0m/\n"
          ]
        }
      ]
    },
    {
      "cell_type": "code",
      "source": [
        "cd 2022dataset"
      ],
      "metadata": {
        "colab": {
          "base_uri": "https://localhost:8080/"
        },
        "id": "1aMrSL8i-v6y",
        "outputId": "10a3b9c9-f1e4-4f20-b528-f9d634334937"
      },
      "execution_count": null,
      "outputs": [
        {
          "output_type": "stream",
          "name": "stdout",
          "text": [
            "/content/2022dataset\n"
          ]
        }
      ]
    },
    {
      "cell_type": "code",
      "source": [
        "ls"
      ],
      "metadata": {
        "colab": {
          "base_uri": "https://localhost:8080/"
        },
        "id": "D4wHen7f-xpK",
        "outputId": "25d15c83-4d57-4e86-c697-c8a6fe7cd29e"
      },
      "execution_count": null,
      "outputs": [
        {
          "output_type": "stream",
          "name": "stdout",
          "text": [
            "age2012.csv  age2022.csv  우리반명단.csv\n"
          ]
        }
      ]
    },
    {
      "cell_type": "markdown",
      "source": [
        "# *2. 프로그램*"
      ],
      "metadata": {
        "id": "rtLyVEBw-cbj"
      }
    },
    {
      "cell_type": "markdown",
      "source": [
        "## 1) 학급 모둠 자동 구성 프로그램\n",
        "프로그램 개요\n",
        "\n",
        "1. 모둠을 짜주는 프로그램 \n",
        "2. 한 모둠당 몇 명이 들어갈지를 입력받음\n",
        "3. 특성이 강한 아이들에 특성점수 1 표시하기\n",
        "4. 이 아이들이 둘 이상 같이 들어갔을 경우 모둠을 다시 구성 (합을 체크하여, 2 이상이면 초기화 후 모둠 재구성)\n",
        "5. 전체인원 ÷ 모둠인원이 나누어떨어지지 않을 때는 남은 학생들의 명단을 보고 교사가 임의로 추가 배정\n",
        "\n",
        "- 학생 정보 csv(UTF-8로 저장)를 사용하여 사용 범위를 넓히고 사용을 편리하게 함\n",
        "- 사용 파일 예시 https://drive.google.com/file/d/1ny9GR4LPbHwjeiHwqWUMBBD2hX0HC49z/view?usp=sharing\n",
        "- 엑셀로 예시와 같이 파일을 만든 후 '다른 이름으로 저장' -> 'CSV UTF-8(쉼표로 분리)' 형식으로 저장"
      ],
      "metadata": {
        "id": "QPPENkR96KaV"
      }
    },
    {
      "cell_type": "code",
      "source": [
        "# 자동으로 모둠을 짜 주는 프로그램\n",
        "# 특성이 강한 아이들이 한 모둠에 몰리는 것 방지, csv 파일 사용\n",
        "import csv\n",
        "import random\n",
        "data = csv.reader(open('우리반명단.csv'))\n",
        "next(data)\n",
        "data = list(data)\n",
        "\n",
        "student = [] \n",
        "special = []\n",
        "for row in data :\n",
        "  student.append(row[0])\n",
        "  special.append(row[1])\n",
        "\n",
        "group = []\n",
        "special_value = []\n",
        "final = []                                     # 최종 모둠 리스트\n",
        "j = 1                                          # 모둠 번호 설정\n",
        "num = int(input('몇 명으로 모둠을 나눌까요? : '))\n",
        "\n",
        "while num <= len(student) :                    # 남은 학생 수가 입력한 모둠당 인원보다 많을 때만 반복\n",
        "  print(str(j)+'번째 모둠')\n",
        "  for i in range(num) :                        # 입력한 모둠원 수만큼 반복\n",
        "    k = random.randrange(0,int(len(student)))  # 남은 학생 수에서 랜덤 숫자 선택(학생리스트의 인덱스가 됨)\n",
        "    group.append(student[k])                   # 학생을 모둠 리스트에 추가하고\n",
        "    special_value.append(int(special[k]))      # 특성숫자를 점수 리스트에 추가\n",
        "    del student[k]                             # 학생 리스트에서 해당 학생 삭제\n",
        "    del special[k]                             # 특성숫자 리스트에서 해당 숫자 삭제\n",
        "  final.append(list(group))\n",
        "  print(group)                                 # 모둠 리스트 출력\n",
        "  print(special_value)                         # 특성숫자 리스트 출력(참고용)\n",
        "\n",
        "  if sum(special_value) >= 2 :                 # 특성 숫자 합이 2 이상이면 모든 작업 초기화하기 위해\n",
        "    student.clear()                            # 학생 리스트 비우기\n",
        "    special.clear()                            # 특성숫자 리스트 비우기\n",
        "    group.clear()                              # 모둠 리스트 비우기\n",
        "    special_value.clear()                      # 점수 리스트 비우기\n",
        "    final.clear()                              # 최종 모둠 리스트 비우기\n",
        "    j = 1                                      # 모둠 번호 초기화\n",
        "    for row in data :\n",
        "      student.append(row[0])                   # 학생 리스트 초기화\n",
        "      special.append(row[1])                   # 특성숫자 리스트 초기화\n",
        "    print('모둠 구성을 초기화합니다.')\n",
        "    print('--------------------------------------------------------------------')\n",
        "  else :                                       # 특성 숫자 합이 2 미만이면 모둠 확정\n",
        "    group.clear()                              # 모둠 리스트 비우기\n",
        "    special_value.clear()                      # 점수 리스트 비우기\n",
        "    j+= 1                                      # 모둠 번호 증가\n",
        "\n",
        "print('--------------------------------------------------------------------')\n",
        "print('특성점수 없는 모둠 구성을 출력합니다')\n",
        "for l, m in enumerate(final) :\n",
        "  print(f'{l+1}번째 모둠 : {m}')\n",
        "\n",
        "if student != [] :                             # 모둠 구성되지 않은 학생들 출력\n",
        "  print('\\n이하는 남은 학생들의 명단입니다.') \n",
        "  print(student)"
      ],
      "metadata": {
        "colab": {
          "base_uri": "https://localhost:8080/"
        },
        "id": "qje9s2JMt2o0",
        "outputId": "805c79e2-a7b5-4930-bbb0-ece60f3c229c"
      },
      "execution_count": null,
      "outputs": [
        {
          "output_type": "stream",
          "name": "stdout",
          "text": [
            "몇 명으로 모둠을 나눌까요? : 4\n",
            "1번째 모둠\n",
            "['배두나', '송중기', '송혜교', '라미란']\n",
            "[0, 0, 0, 0]\n",
            "2번째 모둠\n",
            "['황정민', '류승룡', '유해진', '하지원']\n",
            "[1, 0, 0, 0]\n",
            "3번째 모둠\n",
            "['전지현', '김혜수', '이정재', '설경구']\n",
            "[0, 0, 0, 0]\n",
            "4번째 모둠\n",
            "['이정은', '최민식', '송강호', '고아성']\n",
            "[0, 0, 0, 0]\n",
            "5번째 모둠\n",
            "['이경영', '하정우', '마동석', '박소담']\n",
            "[1, 0, 1, 0]\n",
            "모둠 구성을 초기화합니다.\n",
            "--------------------------------------------------------------------\n",
            "1번째 모둠\n",
            "['김혜수', '설경구', '마동석', '송혜교']\n",
            "[0, 0, 1, 0]\n",
            "2번째 모둠\n",
            "['송중기', '이경영', '송강호', '유해진']\n",
            "[0, 1, 0, 0]\n",
            "3번째 모둠\n",
            "['배두나', '류승룡', '전지현', '하지원']\n",
            "[0, 0, 0, 0]\n",
            "4번째 모둠\n",
            "['고아성', '라미란', '이정재', '최민식']\n",
            "[0, 0, 0, 0]\n",
            "5번째 모둠\n",
            "['박소담', '하정우', '이정은', '황정민']\n",
            "[0, 0, 0, 1]\n",
            "--------------------------------------------------------------------\n",
            "특성점수 없는 모둠 구성을 출력합니다\n",
            "1번째 모둠 : ['김혜수', '설경구', '마동석', '송혜교']\n",
            "2번째 모둠 : ['송중기', '이경영', '송강호', '유해진']\n",
            "3번째 모둠 : ['배두나', '류승룡', '전지현', '하지원']\n",
            "4번째 모둠 : ['고아성', '라미란', '이정재', '최민식']\n",
            "5번째 모둠 : ['박소담', '하정우', '이정은', '황정민']\n"
          ]
        }
      ]
    },
    {
      "cell_type": "markdown",
      "source": [
        "## 2) 운동 팀 나누기 프로그램\n",
        "1. 축구, 피구 등 운동 팀을 짜주는 프로그램\n",
        "2. 팀당 인원을 입력받음(두 팀으로 나누는 상황 생각하고 만듦)\n",
        "3. 실력이 뛰어난 아이들에 운동점수 a 표시, 운동을 힘들어하는 아이들에 b 표시 \n",
        "4. 실력차이가 너무 나면 팀 다시 구성(수를 세어, a 나 b 인원이 2명 이상 차이나면 초기화 후 팀 재구성) \n",
        "5. 남는 인원은 교사가 보고 임의로 추가 배정\n",
        "\n",
        "- 학생 정보 csv(UTF-8로 저장)를 사용하여 사용 범위를 넓히고 사용을 편리하게 함\n",
        "- 사용 파일 예시 https://drive.google.com/file/d/1ny9GR4LPbHwjeiHwqWUMBBD2hX0HC49z/view?usp=sharing\n",
        "- 엑셀로 예시와 같이 파일을 만든 후 '다른 이름으로 저장' -> 'CSV UTF-8(쉼표로 분리)' 형식으로 저장"
      ],
      "metadata": {
        "id": "72p6NnVXkJtB"
      }
    },
    {
      "cell_type": "code",
      "source": [
        "# 운동 팀을 짜주는 프로그램\n",
        "# 너무 잘 하거나 못하는 아이들이 한 팀에 몰리는 것 방지, csv 파일 사용\n",
        "import csv\n",
        "import random\n",
        "data = csv.reader(open('우리반명단.csv'))\n",
        "next(data)\n",
        "data = list(data)\n",
        "\n",
        "student = [] \n",
        "special = []\n",
        "for row in data :\n",
        "  student.append(row[0])\n",
        "  special.append(row[2])\n",
        "\n",
        "group = []\n",
        "special_value = []\n",
        "final = []                                     # 최종 팀 리스트\n",
        "final_value = []                               # 최종 운동점수 리스트\n",
        "j = 1                                          # 팀 번호 설정\n",
        "num = int(input('몇 명을 한 팀으로 구성할까요? : '))\n",
        "\n",
        "flag = False\n",
        "while not flag : \n",
        "  while num <= len(student) :                    # 남은 학생 수가 입력한 모둠당 인원보다 많을 때만 반복\n",
        "    print(str(j)+'번째 팀')\n",
        "    for i in range(num) :                        # 입력한 모둠원 수만큼 반복\n",
        "      k = random.randrange(0,int(len(student)))  # 남은 학생 수에서 랜덤 숫자 선택(학생리스트의 인덱스가 됨)\n",
        "      group.append(student[k])                   # 학생을 모둠 리스트에 추가하고\n",
        "      special_value.append(special[k])           # 특성숫자를 점수 리스트에 추가\n",
        "      del student[k]                             # 학생 리스트에서 해당 학생 삭제\n",
        "      del special[k]                             # 특성숫자 리스트에서 해당 숫자 삭제\n",
        "    final.append(list(group))\n",
        "    final_value.append(list(special_value))\n",
        "    print(group)                                 # 모둠 리스트 출력\n",
        "    print(special_value)                         # 특성숫자 리스트 출력(참고용)\n",
        "\n",
        "    group.clear()                              # 모둠 리스트 비우기\n",
        "    special_value.clear()                      # 점수 리스트 비우기\n",
        "    j+= 1                                      # 팀 번호 증가   \n",
        "\n",
        "  # print('final', final_value)\n",
        "  # print(final_value[0].count('a')-final_value[1].count('a'))\n",
        "  # print(abs(final_value[0].count('a')-final_value[1].count('a')))\n",
        "  # print(final_value[0].count('b')-final_value[1].count('b'))\n",
        "  # print(abs(final_value[0].count('b')-final_value[1].count('b')))\n",
        "\n",
        "  if abs(final_value[0].count('a')-final_value[1].count('a')) >= 2  or abs(final_value[0].count('b')-final_value[1].count('b')) >= 2 :       # a나 b인 학생 수 차이가 2명 이상이면\n",
        "    student.clear()                            # 학생 리스트 비우기\n",
        "    special.clear()                            # 특성숫자 리스트 비우기\n",
        "    group.clear()                              # 팀 리스트 비우기\n",
        "    special_value.clear()                      # 점수 리스트 비우기\n",
        "    final.clear()                              # 최종 팀 리스트 비우기\n",
        "    final_value.clear()                        # 최종 운동점수 리스트 비우기\n",
        "    j = 1                                      # 모둠 번호 초기화\n",
        "    for row in data :\n",
        "      student.append(row[0])                   # 학생 리스트 초기화\n",
        "      special.append(row[2])                   # 특성숫자 리스트 초기화\n",
        "    print('팀 구성을 초기화합니다.')\n",
        "    print('--------------------------------------------------------------------')\n",
        "    flag = False\n",
        "  else :\n",
        "    flag = True\n",
        "\n",
        "\n",
        "print('--------------------------------------------------------------------')\n",
        "print('운동점수 없는 팀 구성을 출력합니다')\n",
        "for l, m in enumerate(final) :\n",
        "  print(f'{l+1}번째 팀 : {m}')\n",
        "\n",
        "if student != [] :                             # 구성되지 않은 학생들 출력\n",
        "  print('\\n이하는 남은 학생들의 명단입니다.') \n",
        "  print(student)"
      ],
      "metadata": {
        "colab": {
          "base_uri": "https://localhost:8080/"
        },
        "id": "sPtYyxkMxFfA",
        "outputId": "bb307048-5c2c-4ca8-bb93-f6b64c71e627"
      },
      "execution_count": null,
      "outputs": [
        {
          "output_type": "stream",
          "name": "stdout",
          "text": [
            "몇 명을 한 팀으로 구성할까요? : 9\n",
            "1번째 팀\n",
            "['이정은', '류승룡', '배두나', '설경구', '송강호', '하지원', '박소담', '송혜교', '라미란']\n",
            "['', 'a', 'a', '', 'a', 'a', 'b', '', '']\n",
            "2번째 팀\n",
            "['송중기', '최민식', '김혜수', '유해진', '고아성', '하정우', '전지현', '마동석', '이경영']\n",
            "['', 'b', 'a', 'b', 'a', '', '', '', '']\n",
            "팀 구성을 초기화합니다.\n",
            "--------------------------------------------------------------------\n",
            "1번째 팀\n",
            "['송강호', '배두나', '박소담', '이정은', '라미란', '류승룡', '이정재', '전지현', '황정민']\n",
            "['a', 'a', 'b', '', '', 'a', '', '', '']\n",
            "2번째 팀\n",
            "['하정우', '김혜수', '하지원', '설경구', '송중기', '마동석', '송혜교', '최민식', '고아성']\n",
            "['', 'a', 'a', '', '', '', '', 'b', 'a']\n",
            "--------------------------------------------------------------------\n",
            "운동점수 없는 팀 구성을 출력합니다\n",
            "1번째 팀 : ['송강호', '배두나', '박소담', '이정은', '라미란', '류승룡', '이정재', '전지현', '황정민']\n",
            "2번째 팀 : ['하정우', '김혜수', '하지원', '설경구', '송중기', '마동석', '송혜교', '최민식', '고아성']\n",
            "\n",
            "이하는 남은 학생들의 명단입니다.\n",
            "['유해진', '이경영']\n"
          ]
        }
      ]
    }
  ],
  "metadata": {
    "colab": {
      "collapsed_sections": [],
      "name": "5주차미션(브루노마르스).ipynb",
      "provenance": [],
      "toc_visible": true,
      "authorship_tag": "ABX9TyOiiXxvTqDFKaOYc3WOdgDw",
      "include_colab_link": true
    },
    "kernelspec": {
      "display_name": "Python 3",
      "name": "python3"
    },
    "language_info": {
      "name": "python"
    }
  },
  "nbformat": 4,
  "nbformat_minor": 0
}