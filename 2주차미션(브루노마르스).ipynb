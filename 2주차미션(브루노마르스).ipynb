{
  "nbformat": 4,
  "nbformat_minor": 0,
  "metadata": {
    "colab": {
      "name": "2주차미션(브루노마르스).ipynb",
      "provenance": [],
      "collapsed_sections": [],
      "authorship_tag": "ABX9TyOlKtEmJiFsdjJksDioKpBn",
      "include_colab_link": true
    },
    "kernelspec": {
      "name": "python3",
      "display_name": "Python 3"
    },
    "language_info": {
      "name": "python"
    }
  },
  "cells": [
    {
      "cell_type": "markdown",
      "metadata": {
        "id": "view-in-github",
        "colab_type": "text"
      },
      "source": [
        "<a href=\"https://colab.research.google.com/github/brunomarschuck/2022PythonChick/blob/main/2%EC%A3%BC%EC%B0%A8%EB%AF%B8%EC%85%98(%EB%B8%8C%EB%A3%A8%EB%85%B8%EB%A7%88%EB%A5%B4%EC%8A%A4).ipynb\" target=\"_parent\"><img src=\"https://colab.research.google.com/assets/colab-badge.svg\" alt=\"Open In Colab\"/></a>"
      ]
    },
    {
      "cell_type": "markdown",
      "source": [
        "- 왼쪽에 있는 목차 보시면 더 편하게 보실 수 있습니다"
      ],
      "metadata": {
        "id": "LTe5-cUjpnPP"
      }
    },
    {
      "cell_type": "markdown",
      "source": [
        "# I. 아이들 성향을 고려한 모둠 만들기\n",
        "- 질문방에 올라온 마음우주님의 코드를 변형하였다. 과제 수행 당시 마음우주님 링크가 없어서 링크 첨부는 못했다.\n",
        "- 기본적인 흐름은 아래와 같다.\n",
        " 1. 명단 작성 시 아이들 적극도, 발표 횟수 등에 따라 이름 뒤에 A, B, C를 붙여 그룹 나누기\n",
        " 2. A그룹에서 2명, B그룹에서 3명, C그룹에서 1명을 랜덤하게 선택해서 Group1 만들기\n",
        " 3. Group1에 들어간 아이들 제외한 나머지로 Group2 만들기\n",
        " 4. 이런 식으로 Group3, Group4까지 만들기(총원 24명, 모둠당 6명)\n",
        " \n",
        " *아이디어: A, B, C 아이들을 랜덤하게 미리 섞어 놓고 뽑기\n",
        " - 사용한 파일 https://drive.google.com/file/d/10b56fEdPwJ8eYiGj1Y0ycf720x2x9ap6/view?usp=sharing"
      ],
      "metadata": {
        "id": "U8p7Ifvi9QEw"
      }
    },
    {
      "cell_type": "code",
      "source": [
        "ls"
      ],
      "metadata": {
        "colab": {
          "base_uri": "https://localhost:8080/"
        },
        "id": "-P0KlWJXO8pT",
        "outputId": "53e7748c-ccf3-47ef-e395-21a7790c6301"
      },
      "execution_count": null,
      "outputs": [
        {
          "output_type": "stream",
          "name": "stdout",
          "text": [
            " \u001b[0m\u001b[01;34msample_data\u001b[0m/  '우리반명단(과제용).txt'\n"
          ]
        }
      ]
    },
    {
      "cell_type": "markdown",
      "source": [
        "##(1) 매뉴얼하게 뽑아내기"
      ],
      "metadata": {
        "id": "iuXz0iAY9mf1"
      }
    },
    {
      "cell_type": "code",
      "source": [
        "# 라이브러리 불러오기\n",
        "import random\n",
        "\n",
        "# 파일 불러오기\n",
        "data = open('우리반명단(과제용).txt')\n",
        "A = []\n",
        "B = []\n",
        "C = []\n",
        "\n",
        "# A, B, C 리스트 만들기\n",
        "for row in data :\n",
        "  if row[-2] == 'A' :\n",
        "    A.append(row.strip())\n",
        "  elif row[-2] == 'B' :\n",
        "    B.append(row.strip())\n",
        "  else :\n",
        "    C.append(row.strip())\n",
        "\n",
        "# A, B, C 리스트 속 이름 랜덤하게 섞기\n",
        "random.shuffle(A)\n",
        "random.shuffle(B)\n",
        "random.shuffle(C)\n",
        "\n",
        "# A에서 2명, B에서 3명, C에서 1명씩 뽑아 모둠 구성하기\n",
        "group1 = A[0:2] + B[0:3] + C[0:1] # +: 리스트 합치기\n",
        "group2 = A[2:4] + B[3:6] + C[1:2]\n",
        "group3 = A[4:6] + B[6:9] + C[2:3]\n",
        "group4 = A[6:8] + B[9:12] + C[3:4]\n",
        "\n",
        "# 모둠원 이름 출력하기\n",
        "print(group1)\n",
        "print(group2)\n",
        "print(group3)\n",
        "print(group4)"
      ],
      "metadata": {
        "colab": {
          "base_uri": "https://localhost:8080/"
        },
        "id": "1-poWaz0PAan",
        "outputId": "1be5ba6a-50a1-4aa1-d1fa-b945fe19c4f4"
      },
      "execution_count": null,
      "outputs": [
        {
          "output_type": "stream",
          "name": "stdout",
          "text": [
            "['박소담A', '최민식A', '이정은B', '한호열B', '이정재B', '하지원C']\n",
            "['송강호A', '김혜수A', '송혜교B', '강새벽B', '라미란B', '송중기C']\n",
            "['이경영A', '류승룡A', '배두나B', '유해진B', '조석봉B', '도강재C']\n",
            "['마동석A', '설경구A', '고아성B', '전지현B', '하정우B', '황정민C']\n"
          ]
        }
      ]
    },
    {
      "cell_type": "markdown",
      "source": [
        "## (2) 자동으로 뽑아내기"
      ],
      "metadata": {
        "id": "OZuKurI7-u55"
      }
    },
    {
      "cell_type": "code",
      "source": [
        "# 마지막 부분 group1,2,3,4 하는 부분을 자동으로 뽑아냄\n",
        "\n",
        "# 라이브러리 불러오기\n",
        "import random\n",
        "\n",
        "# 파일 불러오기\n",
        "data = open('우리반명단(과제용).txt')\n",
        "A = []\n",
        "B = []\n",
        "C = []\n",
        "\n",
        "# A, B, C 리스트 만들기\n",
        "for row in data :\n",
        "  if row[-2] == 'A' :\n",
        "    A.append(row.strip())\n",
        "  elif row[-2] == 'B' :\n",
        "    B.append(row.strip())\n",
        "  else :\n",
        "    C.append(row.strip())\n",
        "\n",
        "# A, B, C 리스트 속 이름 랜덤하게 섞기\n",
        "random.shuffle(A)\n",
        "random.shuffle(B)\n",
        "random.shuffle(C)\n",
        "\n",
        "#groups 리스트 만들고 값 넣기\n",
        "groups = []\n",
        "for i in range(1, 5):\n",
        "  groups.append(A[2*(i-1):2*i] + B[3*(i-1):3*i] + C[(i-1):i])\n",
        "\n",
        "#모둠 뽑아내기\n",
        "for group in groups:\n",
        "  print(group)\n"
      ],
      "metadata": {
        "colab": {
          "base_uri": "https://localhost:8080/"
        },
        "id": "m5r7PZAhD51t",
        "outputId": "910c99e6-f5d6-420d-c091-fe870730235d"
      },
      "execution_count": null,
      "outputs": [
        {
          "output_type": "stream",
          "name": "stdout",
          "text": [
            "['설경구A', '류승룡A', '이정은B', '배두나B', '라미란B', '송중기C']\n",
            "['이경영A', '박소담A', '전지현B', '한호열B', '유해진B', '하지원C']\n",
            "['송강호A', '김혜수A', '하정우B', '고아성B', '강새벽B', '황정민C']\n",
            "['마동석A', '최민식A', '조석봉B', '이정재B', '송혜교B', '도강재C']\n"
          ]
        }
      ]
    },
    {
      "cell_type": "markdown",
      "source": [
        "### 1-4 보다 0-3 쓰는 것에 익숙해지자"
      ],
      "metadata": {
        "id": "sCE_ToZJ-y77"
      }
    },
    {
      "cell_type": "code",
      "source": [
        "# 위 코드의 마지막 부분은 이렇게 쓸 수도 있음\n",
        "# 1-4 보다 0-3 쓰는 것에 익숙해져야 할 듯\n",
        "\n",
        "groups = [A[2*i:2*i+2] + B[3*i:3*i+3] + C[i:i+1] for i in range(4)]\n",
        "\n",
        "for group in groups:\n",
        "  print(group)"
      ],
      "metadata": {
        "id": "JYobwKRKD70a",
        "colab": {
          "base_uri": "https://localhost:8080/"
        },
        "outputId": "f7ded059-4722-47e3-e430-250220ec8d13"
      },
      "execution_count": null,
      "outputs": [
        {
          "output_type": "stream",
          "name": "stdout",
          "text": [
            "['설경구A', '류승룡A', '이정은B', '배두나B', '라미란B', '송중기C']\n",
            "['이경영A', '박소담A', '전지현B', '한호열B', '유해진B', '하지원C']\n",
            "['송강호A', '김혜수A', '하정우B', '고아성B', '강새벽B', '황정민C']\n",
            "['마동석A', '최민식A', '조석봉B', '이정재B', '송혜교B', '도강재C']\n"
          ]
        }
      ]
    },
    {
      "cell_type": "markdown",
      "source": [
        "#II. 특정 성씨인 사람 뽑아내기\n",
        "- 클래스101의 코드를 변형하여 만들었다\n",
        "- 질문방에서 여러 가지 좋은 코딩 방식을 알게 되었다\n",
        "- 검색 후에는 커서가 파일의 맨 끝으로 가기 때문에 반복 시에는 data.seek(0)을 써야 한다\n",
        "- 사용한 파일 https://drive.google.com/file/d/10b56fEdPwJ8eYiGj1Y0ycf720x2x9ap6/view?usp=sharing"
      ],
      "metadata": {
        "id": "zEX7Jcu6--b8"
      }
    },
    {
      "cell_type": "markdown",
      "source": [
        "## (1) while 반복문 이중 사용"
      ],
      "metadata": {
        "id": "Oc4pF6N3AQXA"
      }
    },
    {
      "cell_type": "code",
      "source": [
        "# 특정 성씨인 사람 뽑아내기\n",
        "while True:\n",
        "  data = open('우리반명단.txt')\n",
        "  surname = input('궁금한 성을 입력하세요 : ')\n",
        "  names = []\n",
        "  for row in data :\n",
        "    if row[0] == surname :\n",
        "      names.append(row.strip())\n",
        "  if len(names) == 0:\n",
        "    print('우리반에는 해당 성을 가진 사람이 없습니다.')\n",
        "    data.seek(0)    # 커서를 파일의 맨 앞으로 이동\n",
        "  else :\n",
        "    print(surname + '씨 성을 가진 사람은 다음과 같습니다')\n",
        "    print(names)\n",
        "    data.seek(0)    # 커서를 파일의 맨 앞으로 이동\n",
        "\n",
        "# 반복실행 여부 결정하기\n",
        "  while True: \n",
        "    question = input('더 알아보시겠습니까? [1: 예, 2: 아니오] : ')\n",
        "    if question == '1':\n",
        "      break\n",
        "    elif question == '2':\n",
        "      break\n",
        "    else :\n",
        "      print('잘못 입력하셨습니다')\n",
        "      continue\n",
        "  if question == '2':\n",
        "    break"
      ],
      "metadata": {
        "colab": {
          "base_uri": "https://localhost:8080/"
        },
        "id": "OSix5ArS_kCg",
        "outputId": "e5b30263-d239-4ae8-e1bf-6063a7f3dd59"
      },
      "execution_count": null,
      "outputs": [
        {
          "name": "stdout",
          "output_type": "stream",
          "text": [
            "궁금한 성을 입력하세요 : 송\n",
            "송씨 성을 가진 사람은 다음과 같습니다\n",
            "['송강호', '송중기', '송혜교']\n",
            "더 알아보시겠습니까? [1: 예, 2: 아니오] : 1\n",
            "궁금한 성을 입력하세요 : 김\n",
            "김씨 성을 가진 사람은 다음과 같습니다\n",
            "['김혜수']\n",
            "더 알아보시겠습니까? [1: 예, 2: 아니오] : 3\n",
            "잘못 입력하셨습니다\n",
            "더 알아보시겠습니까? [1: 예, 2: 아니오] : 2\n"
          ]
        }
      ]
    },
    {
      "cell_type": "markdown",
      "source": [
        "## (2) flag 사용"
      ],
      "metadata": {
        "id": "NUMUvTogAWp8"
      }
    },
    {
      "cell_type": "code",
      "source": [
        "# flag 사용한 버전\n",
        "\n",
        "# 특정 성씨인 사람 뽑아내기\n",
        "data = open('우리반명단.txt')\n",
        "flag = False\n",
        "while True:\n",
        "  if not flag:          #not flag가 True일 때만 실행하기\n",
        "    surname = input('궁금한 성을 입력하세요 : ')\n",
        "    names = []\n",
        "    for row in data :\n",
        "      if row[0] == surname :\n",
        "        names.append(row.strip())\n",
        "    if len(names) == 0:\n",
        "      print('우리반에는 해당 성을 가진 사람이 없습니다.')\n",
        "      data.seek(0)\n",
        "    else :\n",
        "      print(surname + '씨 성을 가진 사람은 다음과 같습니다')\n",
        "      print(names)\n",
        "      data.seek(0)\n",
        "\n",
        "# 반복실행 여부 결정하기\n",
        "  question = input('더 알아보시겠습니까? [1: 예, 2: 아니오] : ')\n",
        "  if question == '1':\n",
        "    flag = False    #not flag가 True이므로 surname부터 다시 반복하게 됨\n",
        "    continue\n",
        "  elif question == '2':\n",
        "    break           #코드를 종료함\n",
        "  else :\n",
        "    print('잘못 입력하셨습니다')\n",
        "    flag = True     #not flag가 False이므로 surname 건너뛰고 question으로 오게 됨"
      ],
      "metadata": {
        "colab": {
          "base_uri": "https://localhost:8080/"
        },
        "id": "xyBOLH3JADUU",
        "outputId": "897d886e-4fe9-4c78-dcf8-3a58c45b1011"
      },
      "execution_count": null,
      "outputs": [
        {
          "name": "stdout",
          "output_type": "stream",
          "text": [
            "궁금한 성을 입력하세요 : 김\n",
            "김씨 성을 가진 사람은 다음과 같습니다\n",
            "['김혜수']\n",
            "더 알아보시겠습니까? [1: 예, 2: 아니오] : 2\n"
          ]
        }
      ]
    },
    {
      "cell_type": "markdown",
      "source": [
        "#III. 중간기말고사 성적 그래프\n",
        "- 재외한국학교는 초등도 중간기말고사가 있다\n",
        "- 개인별로 성적 그래프를 만들었다\n",
        "- 사용한 파일 https://drive.google.com/file/d/1Sz8ugMn0VyNJcobdz49cfIT7lQrdSfHA/view?usp=sharing"
      ],
      "metadata": {
        "id": "lRZ8b_VtIJbL"
      }
    },
    {
      "cell_type": "markdown",
      "source": [
        "## (1) 과목별 성적 막대그래프"
      ],
      "metadata": {
        "id": "dPH52ZJqSu-H"
      }
    },
    {
      "cell_type": "markdown",
      "source": [
        "- 먼저 한글폰트를 설치해야 한다"
      ],
      "metadata": {
        "id": "LdJ_G12tp_ec"
      }
    },
    {
      "cell_type": "code",
      "source": [
        "!apt-get install fonts-nanum -qq > /dev/null # 한글폰트설치\n",
        "!fc-cache -fv\n",
        "import matplotlib as mpl\n",
        "mpl.font_manager._rebuild()\n",
        "findfont = mpl.font_manager.fontManager.findfont\n",
        "mpl.font_manager.findfont = findfont\n",
        "mpl.backends.backend_agg.findfont = findfont"
      ],
      "metadata": {
        "colab": {
          "base_uri": "https://localhost:8080/"
        },
        "id": "U0uMhM2PN3m1",
        "outputId": "e7af5d5a-ac58-4b11-b0fa-15168af8d9ff"
      },
      "execution_count": null,
      "outputs": [
        {
          "output_type": "stream",
          "name": "stdout",
          "text": [
            "/usr/share/fonts: caching, new cache contents: 0 fonts, 1 dirs\n",
            "/usr/share/fonts/truetype: caching, new cache contents: 0 fonts, 3 dirs\n",
            "/usr/share/fonts/truetype/humor-sans: caching, new cache contents: 1 fonts, 0 dirs\n",
            "/usr/share/fonts/truetype/liberation: caching, new cache contents: 16 fonts, 0 dirs\n",
            "/usr/share/fonts/truetype/nanum: caching, new cache contents: 10 fonts, 0 dirs\n",
            "/usr/local/share/fonts: caching, new cache contents: 0 fonts, 0 dirs\n",
            "/root/.local/share/fonts: skipping, no such directory\n",
            "/root/.fonts: skipping, no such directory\n",
            "/var/cache/fontconfig: cleaning cache directory\n",
            "/root/.cache/fontconfig: not cleaning non-existent cache directory\n",
            "/root/.fontconfig: not cleaning non-existent cache directory\n",
            "fc-cache: succeeded\n"
          ]
        }
      ]
    },
    {
      "cell_type": "code",
      "source": [
        "import csv\n",
        "data = csv.reader(open('1학기중간.csv', encoding ='cp949'))\n",
        "mid1 = []\n",
        "next(data)\n",
        "for row in data :\n",
        "  mid1.append(row)           # 학생들 성적 리스트 생성\n",
        "\n",
        "import matplotlib.pyplot as plt\n",
        "plt.rc('font', family = 'NanumGothic')\n",
        "\n",
        "for mid1_score in mid1 :\n",
        "  print(mid1_score)           # 개인별 성적 리스트 생성\n",
        "  plt.title(mid1_score[0])    # 그래프 타이틀을 각 학생의 이름으로\n",
        "  ax = plt.gca()                  \n",
        "  ax.set_ylim([0, 100])       # y축 범위 설정\n",
        "  plt.bar(['국어','사회','수학','과학'], [int(i) for i in mid1_score[1:]]) # x값은 과목명, y값은 점수\n",
        "  plt.show()"
      ],
      "metadata": {
        "id": "ZZe1PElaI9p5",
        "colab": {
          "base_uri": "https://localhost:8080/",
          "height": 1000
        },
        "outputId": "395774b5-05f6-403a-9cde-f22dd3ebcdff"
      },
      "execution_count": null,
      "outputs": [
        {
          "output_type": "stream",
          "name": "stdout",
          "text": [
            "['김민준', '71', '68', '88', '84']\n"
          ]
        },
        {
          "output_type": "display_data",
          "data": {
            "text/plain": [
              "<Figure size 432x288 with 1 Axes>"
            ],
            "image/png": "[encoded data removed]"
          },
          "metadata": {
            "needs_background": "light"
          }
        },
        {
          "output_type": "stream",
          "name": "stdout",
          "text": [
            "['마동석', '96', '100', '96', '94']\n"
          ]
        },
        {
          "output_type": "display_data",
          "data": {
            "text/plain": [
              "<Figure size 432x288 with 1 Axes>"
            ],
            "image/png": "[encoded data removed]"
          },
          "metadata": {
            "needs_background": "light"
          }
        },
        {
          "output_type": "stream",
          "name": "stdout",
          "text": [
            "['류승룡', '84', '76', '88', '84']\n"
          ]
        },
        {
          "output_type": "display_data",
          "data": {
            "text/plain": [
              "<Figure size 432x288 with 1 Axes>"
            ],
            "image/png": "[encoded data removed]"
          },
          "metadata": {
            "needs_background": "light"
          }
        },
        {
          "output_type": "stream",
          "name": "stdout",
          "text": [
            "['유해진', '100', '100', '100', '100']\n"
          ]
        },
        {
          "output_type": "display_data",
          "data": {
            "text/plain": [
              "<Figure size 432x288 with 1 Axes>"
            ],
            "image/png": "[encoded data removed]"
          },
          "metadata": {
            "needs_background": "light"
          }
        },
        {
          "output_type": "stream",
          "name": "stdout",
          "text": [
            "['고아성', '96', '84', '100', '76']\n"
          ]
        },
        {
          "output_type": "display_data",
          "data": {
            "text/plain": [
              "<Figure size 432x288 with 1 Axes>"
            ],
            "image/png": "[encoded data removed]"
          },
          "metadata": {
            "needs_background": "light"
          }
        },
        {
          "output_type": "stream",
          "name": "stdout",
          "text": [
            "['이정재', '90', '80', '88', '72']\n"
          ]
        },
        {
          "output_type": "display_data",
          "data": {
            "text/plain": [
              "<Figure size 432x288 with 1 Axes>"
            ],
            "image/png": "[encoded data removed]"
          },
          "metadata": {
            "needs_background": "light"
          }
        },
        {
          "output_type": "stream",
          "name": "stdout",
          "text": [
            "['하지원', '78', '40', '92', '60']\n"
          ]
        },
        {
          "output_type": "display_data",
          "data": {
            "text/plain": [
              "<Figure size 432x288 with 1 Axes>"
            ],
            "image/png": "[encoded data removed]"
          },
          "metadata": {
            "needs_background": "light"
          }
        },
        {
          "output_type": "stream",
          "name": "stdout",
          "text": [
            "['송강호', '80', '64', '64', '70']\n"
          ]
        },
        {
          "output_type": "display_data",
          "data": {
            "text/plain": [
              "<Figure size 432x288 with 1 Axes>"
            ],
            "image/png": "[encoded data removed]"
          },
          "metadata": {
            "needs_background": "light"
          }
        },
        {
          "output_type": "stream",
          "name": "stdout",
          "text": [
            "['이경영', '94', '100', '88', '96']\n"
          ]
        },
        {
          "output_type": "display_data",
          "data": {
            "text/plain": [
              "<Figure size 432x288 with 1 Axes>"
            ],
            "image/png": "[encoded data removed]"
          },
          "metadata": {
            "needs_background": "light"
          }
        },
        {
          "output_type": "stream",
          "name": "stdout",
          "text": [
            "['배두나', '84', '100', '92', '98']\n"
          ]
        },
        {
          "output_type": "display_data",
          "data": {
            "text/plain": [
              "<Figure size 432x288 with 1 Axes>"
            ],
            "image/png": "[encoded data removed]"
          },
          "metadata": {
            "needs_background": "light"
          }
        },
        {
          "output_type": "stream",
          "name": "stdout",
          "text": [
            "['이정은', '82', '84', '88', '84']\n"
          ]
        },
        {
          "output_type": "display_data",
          "data": {
            "text/plain": [
              "<Figure size 432x288 with 1 Axes>"
            ],
            "image/png": "[encoded data removed]"
          },
          "metadata": {
            "needs_background": "light"
          }
        },
        {
          "output_type": "stream",
          "name": "stdout",
          "text": [
            "['하정우', '84', '76', '76', '70']\n"
          ]
        },
        {
          "output_type": "display_data",
          "data": {
            "text/plain": [
              "<Figure size 432x288 with 1 Axes>"
            ],
            "image/png": "[encoded data removed]"
          },
          "metadata": {
            "needs_background": "light"
          }
        },
        {
          "output_type": "stream",
          "name": "stdout",
          "text": [
            "['송중기', '88', '92', '92', '96']\n"
          ]
        },
        {
          "output_type": "display_data",
          "data": {
            "text/plain": [
              "<Figure size 432x288 with 1 Axes>"
            ],
            "image/png": "[encoded data removed]"
          },
          "metadata": {
            "needs_background": "light"
          }
        },
        {
          "output_type": "stream",
          "name": "stdout",
          "text": [
            "['설경구', '92', '80', '82', '80']\n"
          ]
        },
        {
          "output_type": "display_data",
          "data": {
            "text/plain": [
              "<Figure size 432x288 with 1 Axes>"
            ],
            "image/png": "[encoded data removed]"
          },
          "metadata": {
            "needs_background": "light"
          }
        },
        {
          "output_type": "stream",
          "name": "stdout",
          "text": [
            "['최민식', '39', '28', '36', '30']\n"
          ]
        },
        {
          "output_type": "display_data",
          "data": {
            "text/plain": [
              "<Figure size 432x288 with 1 Axes>"
            ],
            "image/png": "[encoded data removed]"
          },
          "metadata": {
            "needs_background": "light"
          }
        },
        {
          "output_type": "stream",
          "name": "stdout",
          "text": [
            "['라미란', '96', '100', '96', '94']\n"
          ]
        },
        {
          "output_type": "display_data",
          "data": {
            "text/plain": [
              "<Figure size 432x288 with 1 Axes>"
            ],
            "image/png": "[encoded data removed]"
          },
          "metadata": {
            "needs_background": "light"
          }
        },
        {
          "output_type": "stream",
          "name": "stdout",
          "text": [
            "['홍혜교', '92', '92', '92', '90']\n"
          ]
        },
        {
          "output_type": "display_data",
          "data": {
            "text/plain": [
              "<Figure size 432x288 with 1 Axes>"
            ],
            "image/png": "[encoded data removed]"
          },
          "metadata": {
            "needs_background": "light"
          }
        },
        {
          "output_type": "stream",
          "name": "stdout",
          "text": [
            "['전지현', '96', '96', '92', '100']\n"
          ]
        },
        {
          "output_type": "display_data",
          "data": {
            "text/plain": [
              "<Figure size 432x288 with 1 Axes>"
            ],
            "image/png": "[encoded data removed]"
          },
          "metadata": {
            "needs_background": "light"
          }
        },
        {
          "output_type": "stream",
          "name": "stdout",
          "text": [
            "['황정민', '82', '80', '68', '36']\n"
          ]
        },
        {
          "output_type": "display_data",
          "data": {
            "text/plain": [
              "<Figure size 432x288 with 1 Axes>"
            ],
            "image/png": "[encoded data removed]"
          },
          "metadata": {
            "needs_background": "light"
          }
        },
        {
          "output_type": "stream",
          "name": "stdout",
          "text": [
            "['김혜수', '88', '96', '96', '92']\n"
          ]
        },
        {
          "output_type": "display_data",
          "data": {
            "text/plain": [
              "<Figure size 432x288 with 1 Axes>"
            ],
            "image/png": "[encoded data removed]"
          },
          "metadata": {
            "needs_background": "light"
          }
        },
        {
          "output_type": "stream",
          "name": "stdout",
          "text": [
            "['박소담', '96', '100', '96', '100']\n"
          ]
        },
        {
          "output_type": "display_data",
          "data": {
            "text/plain": [
              "<Figure size 432x288 with 1 Axes>"
            ],
            "image/png": "[encoded data removed]"
          },
          "metadata": {
            "needs_background": "light"
          }
        },
        {
          "output_type": "stream",
          "name": "stdout",
          "text": [
            "['아이유', '84', '96', '96', '84']\n"
          ]
        },
        {
          "output_type": "display_data",
          "data": {
            "text/plain": [
              "<Figure size 432x288 with 1 Axes>"
            ],
            "image/png": "[encoded data removed]"
          },
          "metadata": {
            "needs_background": "light"
          }
        }
      ]
    },
    {
      "cell_type": "markdown",
      "source": [
        "#IV. 청소역할분담(랜덤)\n",
        "- 이히 님의 질문에 답하면서 코드를 변형했다\n",
        "- 리스트가 비었는지 판단하는 부분이 포인트이다\n",
        "- 사용한파일1 https://drive.google.com/file/d/10b56fEdPwJ8eYiGj1Y0ycf720x2x9ap6/view?usp=sharing\n",
        "- 사용한파일2 https://drive.google.com/file/d/1aAkLS7FZnUTHaDccgjs4WwKoC9PK99BV/view?usp=sharing\n",
        "- f string 쓰는 방법도 연습하면 좋을 것 같다"
      ],
      "metadata": {
        "id": "9a9iXBlRwJle"
      }
    },
    {
      "cell_type": "code",
      "source": [
        "import random\n",
        "data1 = open('우리반명단.txt')\n",
        "data2 = open('청소역할분담.txt')\n",
        "\n",
        "name = []\n",
        "role = []\n",
        "\n",
        "for row in data1 :\n",
        "  name.append(row.strip())\n",
        "\n",
        "for row in data2 :\n",
        "  role.append(row.strip())\n",
        "\n",
        "while name != [] and role != []: #리스트가 비어 있지 않을 때 반복\n",
        "  list1 = random.choice(name)\n",
        "  list2 = random.choice(role)\n",
        "\n",
        "  print('{a} 학생은 {b} 역할입니다.'.format(a=list1, b=list2))\n",
        "\n",
        "  name.remove(list1)\n",
        "  role.remove(list2)\n",
        "\n",
        "  if name == [] and role == []:   #리스트가 둘 다 비어 있다면\n",
        "    break"
      ],
      "metadata": {
        "colab": {
          "base_uri": "https://localhost:8080/"
        },
        "id": "YCIfhrNKqwqI",
        "outputId": "c41dd75f-4661-4d67-8313-bf99a4a7541f"
      },
      "execution_count": null,
      "outputs": [
        {
          "output_type": "stream",
          "name": "stdout",
          "text": [
            "박소담 학생은 교탁 안 정리 역할입니다.\n",
            "라미란 학생은 쓰레기통 주변 정리 역할입니다.\n",
            "이정은 학생은 복도 쓸기 역할입니다.\n",
            "마동석 학생은 책상 밀기 역할입니다.\n",
            "고아성 학생은 교실쓸기(앞,뒤) 역할입니다.\n",
            "김혜수 학생은 복도쪽 창틀 닦기 역할입니다.\n",
            "류승룡 학생은 칠판 지우개 빨기 역할입니다.\n",
            "배두나 학생은 교실쓸기(4분단) 역할입니다.\n",
            "전지현 학생은 사물함 닦기 역할입니다.\n",
            "하정우 학생은 교실쓸기(1분단) 역할입니다.\n",
            "이정재 학생은 교실쓸기(6분단) 역할입니다.\n",
            "황정민 학생은 교실쓸기(2분단) 역할입니다.\n",
            "유해진 학생은 교실닦기(5,6분단) 역할입니다.\n",
            "최민식 학생은 교실쓸기(5분단) 역할입니다.\n",
            "송혜교 학생은 교실닦기(3,4분단) 역할입니다.\n",
            "송중기 학생은 교실쓸기(3분단) 역할입니다.\n",
            "이경영 학생은 교실닦기(1,2분단) 역할입니다.\n",
            "송강호 학생은 교실닦기(앞,뒤) 역할입니다.\n",
            "하지원 학생은 운동장쪽 창틀 닦기 역할입니다.\n",
            "설경구 학생은 복도 닦기 역할입니다.\n"
          ]
        }
      ]
    },
    {
      "cell_type": "markdown",
      "source": [
        "#V. 발표 도우미\n",
        "- 학급 학생 입력 후 원하는 명 수 만큼 학생을 뽑는 프로그램\n",
        "- 애플 선생님의 질문을 보고 코드를 변형했다\n"
      ],
      "metadata": {
        "id": "42YQGXW-lksB"
      }
    },
    {
      "cell_type": "code",
      "source": [
        "import random\n",
        "import time\n",
        "\n",
        "name = []\n",
        "\n",
        "while True :\n",
        "  a1 = input('학생 이름을 입력해주세요. 입력이 끝나면 1을 입력해주세요 : ')\n",
        "  name.append(a1)      # 리스트에 입력한 학생 이름 추가\n",
        "  if a1 == '1' :\n",
        "    break\n",
        "\n",
        "print('반 학생 이름 입력이 완료되었습니다.')\n",
        "name.remove('1')       # 리스트에서 1을 삭제\n",
        "print(name)\n",
        "\n",
        "time.sleep(1)\n",
        "\n",
        "print('발표자 뽑기를 시작하겠습니다. ')\n",
        "a2 = input('몇 명의 학생을 뽑고 싶으신가요? 숫자만 입력해주세요. : ')\n",
        "\n",
        "student = random.sample(name,int(a2))\n",
        "print(student)"
      ],
      "metadata": {
        "colab": {
          "base_uri": "https://localhost:8080/"
        },
        "id": "k0yNRSBXii91",
        "outputId": "724af8f2-6230-47c8-d51a-f5414352fd58"
      },
      "execution_count": null,
      "outputs": [
        {
          "output_type": "stream",
          "name": "stdout",
          "text": [
            "학생 이름을 입력해주세요. 입력이 끝나면 1을 입력해주세요 : 최일구\n",
            "학생 이름을 입력해주세요. 입력이 끝나면 1을 입력해주세요 : 박민석\n",
            "학생 이름을 입력해주세요. 입력이 끝나면 1을 입력해주세요 : 김동우\n",
            "학생 이름을 입력해주세요. 입력이 끝나면 1을 입력해주세요 : 강찬석\n",
            "학생 이름을 입력해주세요. 입력이 끝나면 1을 입력해주세요 : 1\n",
            "반 학생 이름 입력이 완료되었습니다.\n",
            "['최일구', '박민석', '김동우', '강찬석']\n",
            "발표자 뽑기를 시작하겠습니다. \n",
            "몇 명의 학생을 뽑고 싶으신가요? 숫자만 입력해주세요. : 2\n",
            "['강찬석', '김동우']\n"
          ]
        }
      ]
    },
    {
      "cell_type": "markdown",
      "source": [
        "#VI. 성적에 따른 모둠 편성\n",
        "- 우리 스터디의 '토리야'님과 몇 시간을 씨름하면서 둘의 코드를 합쳤다\n",
        "- 1번 과제의 확장판 같은 느낌이다"
      ],
      "metadata": {
        "id": "K-ez2zOvbPQP"
      }
    },
    {
      "cell_type": "markdown",
      "source": [
        "## (1) 성적 입력 후 ABC 판정\n",
        "- 성적을 일일이 입력하는 게 좀 귀찮다. 나중에 txt 파일로 불러오는 걸로 업데이트하자\n",
        "- 또는 애초에 csv 파일을 가져와도 좋을 것 같다."
      ],
      "metadata": {
        "id": "UvRyMYu_bTvJ"
      }
    },
    {
      "cell_type": "markdown",
      "source": [
        "### input으로 성적 입력\n",
        "- 사용한 파일 https://drive.google.com/file/d/1Xki6OG8U-USSF5uUvehK3TzPoi0KTtd2/view?usp=sharing"
      ],
      "metadata": {
        "id": "s8OuyCet1VPX"
      }
    },
    {
      "cell_type": "code",
      "source": [
        "import random\n",
        "import numpy as np\n",
        "\n",
        "namelist = open('우리반명단.txt')\n",
        "name_dict = {}\n",
        "for row in namelist : \n",
        "  name_dict[row.strip()] = 0 \n",
        "\n",
        "value_list = []\n",
        "print(\"학생들의 이름이 나오면 성적을 입력해 주세요 : \")\n",
        "for keys in name_dict :\n",
        "  score = int(input(keys + ' : '))  # input 으로 받으면 str 데이터가 되므로 int 사용\n",
        "  name_dict[keys] = score\n",
        "  value_list.append(score)\n",
        "\n",
        "A_value = int(np.percentile(value_list,75)) # float 값인 np도 int로 통일\n",
        "C_value = int(np.percentile(value_list,25)) # 상위 하위 25퍼센트 점수\n",
        "\n",
        "# print(A_value)  원하는 값이 맞는지 확인\n",
        "# print(C_value)\n",
        "\n",
        "items = name_dict.items()  # name_dict.items()는 딕셔너리의 (키, 값)들로 리스트를 만든 것\n",
        "\n",
        "for k, v in items :\n",
        "  if v >= A_value : \n",
        "    name_dict[k] = 'A'          # 점수가 상위 25퍼센트 이상이면 A\n",
        "  elif v <= C_value : \n",
        "    name_dict[k] = 'C'          # 점수가 하위 25퍼센트 이하면 C\n",
        "  else :\n",
        "    name_dict[k] = 'B'          # 나머지는 B\n",
        "\n",
        "for item in items :\n",
        "  print(item)"
      ],
      "metadata": {
        "id": "dM-20EBibVsV"
      },
      "execution_count": null,
      "outputs": []
    },
    {
      "cell_type": "markdown",
      "source": [
        "### csv로 성적 입력\n",
        "- 사용한 파일: https://drive.google.com/file/d/1dhtPGZ3MhJZeQxaD7ZaKk7ltoNVHaY7l/view?usp=sharing\n",
        "- 이름과 성적으로 구성된 csv 파일을 불러온 후 딕셔너리를 만들자\n",
        "- csv 파일 데이터는 이름, 국어, 사회, 수학, 과학, 평균으로 하면 된다."
      ],
      "metadata": {
        "id": "vK3trB051f63"
      }
    },
    {
      "cell_type": "code",
      "source": [
        "import csv\n",
        "import random\n",
        "import numpy as np\n",
        "\n",
        "data = csv.reader(open('개인별성적(모둠용).csv', encoding = 'cp949'))\n",
        "next(data)\n",
        "name_mark = {}\n",
        "mark_list = []\n",
        "for row in data : \n",
        "  name_mark[row[0]] = float(row[5])    # {이름 : 평균} 딕셔너리 구성\n",
        "  mark_list.append(float(row[5]))      # 평균점수 리스트 생성\n",
        "\n",
        "# print(name_mark) # 원하는 값이 맞는지 확인\n",
        "# print(mark_list)\n",
        "\n",
        "A_value = np.percentile(mark_list,75)  # 상위 하위 25퍼센트 점수\n",
        "C_value = np.percentile(mark_list,25) \n",
        "\n",
        "# print(A_value)  #원하는 값이 맞는지 확인\n",
        "# print(C_value)\n",
        "\n",
        "items = name_mark.items()  # name_mark.items()는 딕셔너리의 (키, 값)들로 리스트를 만든 것\n",
        "\n",
        "for k, v in items :\n",
        "  if v >= A_value : \n",
        "    name_mark[k] = 'A'          # 점수가 상위 25퍼센트 이상이면 A\n",
        "  elif v <= C_value : \n",
        "    name_mark[k] = 'C'          # 점수가 하위 25퍼센트 이하면 C\n",
        "  else :\n",
        "    name_mark[k] = 'B'          # 나머지는 B\n",
        "\n",
        "for item in items :\n",
        "  print(item)"
      ],
      "metadata": {
        "colab": {
          "base_uri": "https://localhost:8080/"
        },
        "id": "A0eFhPXg1jqP",
        "outputId": "c18e66ee-0b3c-4d8d-a1d5-7c8624eed3ce"
      },
      "execution_count": null,
      "outputs": [
        {
          "output_type": "stream",
          "name": "stdout",
          "text": [
            "('마동석', 'A')\n",
            "('류승룡', 'B')\n",
            "('유해진', 'A')\n",
            "('고아성', 'A')\n",
            "('이정재', 'A')\n",
            "('하지원', 'B')\n",
            "('송강호', 'B')\n",
            "('이경영', 'A')\n",
            "('배두나', 'B')\n",
            "('이정은', 'B')\n",
            "('하정우', 'B')\n",
            "('송중기', 'C')\n",
            "('설경구', 'B')\n",
            "('최민식', 'C')\n",
            "('라미란', 'B')\n",
            "('송혜교', 'B')\n",
            "('전지현', 'C')\n",
            "('황정민', 'B')\n",
            "('김혜수', 'C')\n",
            "('박소담', 'C')\n"
          ]
        }
      ]
    },
    {
      "cell_type": "markdown",
      "source": [
        "## (2) 모둠 배정\n",
        "- 모둠 수를 정하면 코딩이 너무 복잡해져서 모둠원 수를 정하는 것으로 하려 했지만..\n",
        "- 이마저도 지금 실력으론 힘들어 모둠원은 4명으로 고정하였다\n",
        "- 남는 인원은 교사가 수동배정 하면 된다"
      ],
      "metadata": {
        "id": "czIApVfibXqu"
      }
    },
    {
      "cell_type": "markdown",
      "source": [
        "### 모둠원 4명으로 고정"
      ],
      "metadata": {
        "id": "aJokOQ-nbakJ"
      }
    },
    {
      "cell_type": "code",
      "source": [
        "# A, B, C 리스트 만들기\n",
        "A = []\n",
        "B = []\n",
        "C = []\n",
        "\n",
        "for item in items :\n",
        "  if item[1] == 'A' :   # item 리스트에서 A, B, C 확인\n",
        "    A.append(item[0])   # 해당하는 이름을 A, B, C 리스트에 추가\n",
        "  elif item[1] == 'B' : \n",
        "    B.append(item[0])\n",
        "  else :\n",
        "    C.append(item[0])\n",
        "\n",
        "# A, B, C 리스트 속 이름 랜덤하게 섞기\n",
        "random.shuffle(A)\n",
        "random.shuffle(B)\n",
        "random.shuffle(C)\n",
        "\n",
        "# 배정하기(A 1명, B 2명, C 1명)\n",
        "groups = []\n",
        "for i in range(20):           # 학급 학생 수가 80명을 넘진 않을 것이므로 20까지\n",
        "  groups.append(A[i:i+1] + B[2*i:2*i+2] + C[i:i+1])\n",
        "\n",
        "# 출력하기\n",
        "print('자동 구성된 모둠은 다음과 같습니다')\n",
        "for group in groups :\n",
        "  if len(group) == 4 :        # 4명 모두 구성된 모둠 출력\n",
        "    print(group)\n",
        "\n",
        "\n",
        "print('남는 학생은 다음과 같습니다')\n",
        "for group in groups :\n",
        "  if 0 < len(group) < 4 :\n",
        "    print(group)\n",
        "print('남는 학생이 없는 경우 모두 자동 배정된 것입니다')"
      ],
      "metadata": {
        "id": "XBlWS7Tbbb1d",
        "colab": {
          "base_uri": "https://localhost:8080/"
        },
        "outputId": "ebc1b183-0754-43ce-cacf-ca996c9cc65c"
      },
      "execution_count": null,
      "outputs": [
        {
          "output_type": "stream",
          "name": "stdout",
          "text": [
            "자동 구성된 모둠은 다음과 같습니다\n",
            "['마동석', '이정은', '송혜교', '김혜수']\n",
            "['이정재', '류승룡', '황정민', '박소담']\n",
            "['고아성', '송강호', '라미란', '최민식']\n",
            "['이경영', '배두나', '하지원', '전지현']\n",
            "['유해진', '설경구', '하정우', '송중기']\n",
            "남는 학생은 다음과 같습니다\n",
            "남는 학생이 없는 경우 모두 자동 배정된 것입니다\n"
          ]
        }
      ]
    },
    {
      "cell_type": "markdown",
      "source": [
        "### 모둠원 수 선택\n",
        "- 나중에 실력이 더 쌓이면 시도해보자"
      ],
      "metadata": {
        "id": "zldHUEa2beHT"
      }
    }
  ]
}